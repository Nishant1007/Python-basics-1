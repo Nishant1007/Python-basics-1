{
 "cells": [
  {
   "cell_type": "code",
   "execution_count": 13,
   "metadata": {},
   "outputs": [],
   "source": [
    "class Phone: #creating class\n",
    "    def make_call(self): #creating method I \n",
    "        print(\"calling\")\n",
    "    def play_game(self): #creating method II\n",
    "        print(\"PUBG\")\n",
    "    \n",
    "# remember self is used to invoke inbuilt parameters always used self as initialiation in methods "
   ]
  },
  {
   "cell_type": "code",
   "execution_count": 14,
   "metadata": {},
   "outputs": [],
   "source": [
    "p1= Phone() # creating object form class\n"
   ]
  },
  {
   "cell_type": "code",
   "execution_count": 15,
   "metadata": {},
   "outputs": [
    {
     "name": "stdout",
     "output_type": "stream",
     "text": [
      "calling\n"
     ]
    }
   ],
   "source": [
    "p1.make_call()"
   ]
  },
  {
   "cell_type": "code",
   "execution_count": 16,
   "metadata": {},
   "outputs": [
    {
     "name": "stdout",
     "output_type": "stream",
     "text": [
      "PUBG\n"
     ]
    }
   ],
   "source": [
    "p1.play_game()"
   ]
  },
  {
   "cell_type": "code",
   "execution_count": 21,
   "metadata": {},
   "outputs": [],
   "source": [
    "class Phone:\n",
    "    def set_color(self,color):\n",
    "        self.color=color\n",
    "    def set_cost(self,cost):\n",
    "        self.cost=cost\n",
    "    def show_color(self):\n",
    "        return self.color\n",
    "    def show_cost(self):\n",
    "        return self.cost\n",
    "    def make_call(self): #creating method I \n",
    "        print(\"calling\")\n",
    "    def play_game(self): #creating method II\n",
    "        print(\"PUBG\")\n",
    "    \n",
    "    \n",
    "    \n",
    "    "
   ]
  },
  {
   "cell_type": "code",
   "execution_count": 22,
   "metadata": {},
   "outputs": [],
   "source": [
    "p2 = Phone()"
   ]
  },
  {
   "cell_type": "code",
   "execution_count": 28,
   "metadata": {},
   "outputs": [],
   "source": [
    "p2.set_color(\"blue\")"
   ]
  },
  {
   "cell_type": "code",
   "execution_count": 29,
   "metadata": {},
   "outputs": [],
   "source": [
    "p2.set_cost(6700)"
   ]
  },
  {
   "cell_type": "code",
   "execution_count": 30,
   "metadata": {},
   "outputs": [
    {
     "data": {
      "text/plain": [
       "6700"
      ]
     },
     "execution_count": 30,
     "metadata": {},
     "output_type": "execute_result"
    }
   ],
   "source": [
    "p2.show_cost()"
   ]
  },
  {
   "cell_type": "code",
   "execution_count": 58,
   "metadata": {},
   "outputs": [
    {
     "data": {
      "text/plain": [
       "'blue'"
      ]
     },
     "execution_count": 58,
     "metadata": {},
     "output_type": "execute_result"
    }
   ],
   "source": [
    "p2.show_color()"
   ]
  },
  {
   "cell_type": "code",
   "execution_count": 18,
   "metadata": {},
   "outputs": [],
   "source": [
    "class Employee:\n",
    "    def __init__ (self,name,age,salary,company,bloodgrp): #use of constructors\n",
    "        self.name=name\n",
    "        self.age=age\n",
    "        self.salary=salary\n",
    "        self.company=company\n",
    "        self.blood_grp= bloodgrp\n",
    "    \n",
    "    def employee_details(self):  # this function helps to assign attributes to object\n",
    "        print(\"name is\",self.name)\n",
    "        print(\"age is\",self.age)\n",
    "        print(\"salary is\",self.salary)\n",
    "        print(\"company is\",self.company)\n",
    "        print(\"bloodgrp is\",self.blood_grp)"
   ]
  },
  {
   "cell_type": "code",
   "execution_count": 19,
   "metadata": {},
   "outputs": [],
   "source": [
    "e1 = Employee('Nishant',29,10000,'FEV','A+') # class is being assigned to object here"
   ]
  },
  {
   "cell_type": "code",
   "execution_count": 20,
   "metadata": {},
   "outputs": [
    {
     "name": "stdout",
     "output_type": "stream",
     "text": [
      "name is Nishant\n",
      "age is 29\n",
      "salary is 10000\n",
      "company is FEV\n",
      "bloodgrp is A+\n"
     ]
    }
   ],
   "source": [
    "e1.employee_details()"
   ]
  },
  {
   "cell_type": "code",
   "execution_count": 33,
   "metadata": {},
   "outputs": [],
   "source": [
    "class Vehicle: #parent class\n",
    "    def __init__ (self,model_year,make,engine,torque): #constructors use\n",
    "        self.model_year= model_year\n",
    "        self.make= make\n",
    "        self.engine=engine\n",
    "        self.torque=torque\n",
    "    \n",
    "    def vehicle_details(self):  #attributes use\n",
    "        print(\"model year is\",self.model_year)\n",
    "        print(\"make is\",self.make)\n",
    "        print(\"engine is\",self.engine)\n",
    "        print(\"power output is\",self.torque)\n",
    "        \n",
    "\n",
    "    \n",
    "    "
   ]
  },
  {
   "cell_type": "code",
   "execution_count": 34,
   "metadata": {},
   "outputs": [],
   "source": [
    "details = Vehicle(2021,\"TATA\",\"gasoline\",\"150NM\")"
   ]
  },
  {
   "cell_type": "code",
   "execution_count": 35,
   "metadata": {},
   "outputs": [
    {
     "name": "stdout",
     "output_type": "stream",
     "text": [
      "model year is 2021\n",
      "make is TATA\n",
      "engine is gasoline\n",
      "power output is 150NM\n"
     ]
    }
   ],
   "source": [
    "details.vehicle_details()"
   ]
  },
  {
   "cell_type": "code",
   "execution_count": 36,
   "metadata": {},
   "outputs": [],
   "source": [
    "    class Car(Vehicle): #child case\n",
    "        def car_details(self):\n",
    "            print(\"I am TATA Nexon\")"
   ]
  },
  {
   "cell_type": "code",
   "execution_count": 37,
   "metadata": {},
   "outputs": [],
   "source": [
    "Company = Car(2021,\"TATA\",\"gasoline\",\"150NM\")\n"
   ]
  },
  {
   "cell_type": "code",
   "execution_count": 38,
   "metadata": {},
   "outputs": [
    {
     "name": "stdout",
     "output_type": "stream",
     "text": [
      "model year is 2021\n",
      "make is TATA\n",
      "engine is gasoline\n",
      "power output is 150NM\n"
     ]
    }
   ],
   "source": [
    "Company.vehicle_details() # calling the parent function"
   ]
  },
  {
   "cell_type": "code",
   "execution_count": 39,
   "metadata": {},
   "outputs": [
    {
     "name": "stdout",
     "output_type": "stream",
     "text": [
      "I am TATA Nexon\n"
     ]
    }
   ],
   "source": [
    "Company.car_details()  #calling child function"
   ]
  },
  {
   "cell_type": "code",
   "execution_count": null,
   "metadata": {},
   "outputs": [],
   "source": [
    "## multiple inheritance##\n"
   ]
  },
  {
   "cell_type": "code",
   "execution_count": 14,
   "metadata": {},
   "outputs": [],
   "source": [
    "class Parent1:\n",
    "    def assign_str1(self,str1):\n",
    "        self.str1=str1\n",
    "    def show_str_1(self):\n",
    "        return self.str1\n",
    "class Parent2:\n",
    "    def assign_str2(self,str2):\n",
    "        self.str2=str2\n",
    "    def show_str_2(self):\n",
    "        return self.str2\n",
    "    \n",
    "    "
   ]
  },
  {
   "cell_type": "code",
   "execution_count": 15,
   "metadata": {},
   "outputs": [],
   "source": [
    "class Child(Parent1,Parent2):\n",
    "    def assign_str3(self,str3):\n",
    "        self.str3=str3\n",
    "    def show_str_3(self):\n",
    "        return self.str3\n",
    "    \n",
    "        \n",
    "       \n",
    "        \n",
    "        "
   ]
  },
  {
   "cell_type": "code",
   "execution_count": 16,
   "metadata": {},
   "outputs": [],
   "source": [
    "Mychild = Child()"
   ]
  },
  {
   "cell_type": "code",
   "execution_count": 17,
   "metadata": {},
   "outputs": [],
   "source": [
    "Mychild.assign_str3(\"I am child of parent 1 & parent 2\")"
   ]
  },
  {
   "cell_type": "code",
   "execution_count": 18,
   "metadata": {},
   "outputs": [
    {
     "data": {
      "text/plain": [
       "'I am child of parent 1 & parent 2'"
      ]
     },
     "execution_count": 18,
     "metadata": {},
     "output_type": "execute_result"
    }
   ],
   "source": [
    "Mychild.show_str_3()"
   ]
  },
  {
   "cell_type": "code",
   "execution_count": 19,
   "metadata": {},
   "outputs": [],
   "source": [
    "## Multi level inheritance ##\n",
    "\n",
    "class Parent:\n",
    "    def assign_name(self,name):\n",
    "        self.name = name\n",
    "    def show_name(self):\n",
    "        return self.name\n",
    "class Child(Parent):\n",
    "    def assign_age(self,age):\n",
    "        self.age = age\n",
    "    def show_age(self):\n",
    "        return self.age\n",
    "class Grandchild(Child):\n",
    "    def assign_gender(self,gender):\n",
    "        self.gender = gender\n",
    "    def show_gender(self):\n",
    "        return self.gender"
   ]
  },
  {
   "cell_type": "code",
   "execution_count": 20,
   "metadata": {},
   "outputs": [],
   "source": [
    "Grand_Child = Grandchild()"
   ]
  },
  {
   "cell_type": "code",
   "execution_count": 21,
   "metadata": {},
   "outputs": [],
   "source": [
    "Grand_Child.assign_gender(\"Male\")"
   ]
  },
  {
   "cell_type": "code",
   "execution_count": 22,
   "metadata": {},
   "outputs": [
    {
     "data": {
      "text/plain": [
       "'Male'"
      ]
     },
     "execution_count": 22,
     "metadata": {},
     "output_type": "execute_result"
    }
   ],
   "source": [
    "Grand_Child.show_gender()"
   ]
  },
  {
   "cell_type": "code",
   "execution_count": 54,
   "metadata": {},
   "outputs": [],
   "source": [
    "class A:\n",
    "    classvar1 = \"I am class var in A \"\n",
    "    def __init__(self):\n",
    "        self.var1 = \"I am inside class A constrtr\"\n",
    "        self.classvar1 = \"Instance var in class A\"\n",
    "        self.special = \"This is special var\"\n",
    "\n",
    "class B(A):\n",
    "    classvar1 = \"I am inside var B\" \n",
    "    def __init__(self):\n",
    "        super().__init__()\n",
    "        self.var1 = \"I am inside class B constrtr\"\n",
    "        self.classvar1 = \"Instance var in class B\"\n",
    "        "
   ]
  },
  {
   "cell_type": "code",
   "execution_count": 55,
   "metadata": {},
   "outputs": [],
   "source": [
    "a = A() #instance varble"
   ]
  },
  {
   "cell_type": "code",
   "execution_count": 56,
   "metadata": {},
   "outputs": [],
   "source": [
    "b = B()  # instance varble"
   ]
  },
  {
   "cell_type": "code",
   "execution_count": 60,
   "metadata": {},
   "outputs": [
    {
     "name": "stdout",
     "output_type": "stream",
     "text": [
      "This is special var Instance var in class B I am inside class B constrtr\n"
     ]
    }
   ],
   "source": [
    "print(b.special, b.classvar1,b.var1)"
   ]
  },
  {
   "cell_type": "code",
   "execution_count": null,
   "metadata": {},
   "outputs": [],
   "source": []
  },
  {
   "cell_type": "code",
   "execution_count": null,
   "metadata": {},
   "outputs": [],
   "source": []
  }
 ],
 "metadata": {
  "kernelspec": {
   "display_name": "Python 3",
   "language": "python",
   "name": "python3"
  },
  "language_info": {
   "codemirror_mode": {
    "name": "ipython",
    "version": 3
   },
   "file_extension": ".py",
   "mimetype": "text/x-python",
   "name": "python",
   "nbconvert_exporter": "python",
   "pygments_lexer": "ipython3",
   "version": "3.7.1"
  }
 },
 "nbformat": 4,
 "nbformat_minor": 2
}
